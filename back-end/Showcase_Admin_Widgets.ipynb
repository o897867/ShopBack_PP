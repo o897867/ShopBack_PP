{
 "cells": [
  {
   "cell_type": "markdown",
   "metadata": {},
   "source": [
    "# Showcase 管理（交互式表单）\n",
    "使用 ipywidgets 在 Notebook 中以分离表单单元管理分类与事件：\n",
    "- 分类：名称单元、图片单元、提交/更新单元\n",
    "- 事件：标题单元、内容单元、图片单元、提交者单元、提交/更新单元\n",
    "\n",
    "如未安装：在下方执行 `!pip install ipywidgets` 并重启内核。"
   ]
  },
  {
   "cell_type": "code",
   "execution_count": 1,
   "metadata": {},
   "outputs": [],
   "source": [
    "# !pip install ipywidgets\n",
    "from showcase_admin import ShowcaseAdmin\n",
    "from ipywidgets import VBox, HBox, Text, Textarea, Dropdown, Button, Output, Layout, HTML\n",
    "from IPython.display import display\n",
    "import json\n",
    "\n",
    "admin = ShowcaseAdmin()\n",
    "out_cat = Output(layout=Layout(border='1px solid #eee'))\n",
    "out_evt = Output(layout=Layout(border='1px solid #eee'))"
   ]
  },
  {
   "cell_type": "markdown",
   "metadata": {},
   "source": [
    "## 分类管理表单（分开单元）"
   ]
  },
  {
   "cell_type": "code",
   "execution_count": 2,
   "metadata": {},
   "outputs": [
    {
     "data": {
      "application/vnd.jupyter.widget-view+json": {
       "model_id": "2122e4ab9fc2469e83ee937b8eff228f",
       "version_major": 2,
       "version_minor": 0
      },
      "text/plain": [
       "HBox(children=(Dropdown(description='选择分类', layout=Layout(width='50%'), options=(('6 - IC Markets', 6), ('5 - …"
      ]
     },
     "metadata": {},
     "output_type": "display_data"
    },
    {
     "data": {
      "application/vnd.jupyter.widget-view+json": {
       "model_id": "c21cf50982be4fdebf949211ce6b535c",
       "version_major": 2,
       "version_minor": 0
      },
      "text/plain": [
       "Output(layout=Layout(border_bottom='1px solid #eee', border_left='1px solid #eee', border_right='1px solid #ee…"
      ]
     },
     "metadata": {},
     "output_type": "display_data"
    }
   ],
   "source": [
    "# 选择与刷新\n",
    "cat_select = Dropdown(description='选择分类', options=[], layout=Layout(width='50%'))\n",
    "btn_cat_refresh = Button(description='刷新分类列表', button_style='')\n",
    "\n",
    "def refresh_categories(*_):\n",
    "    cats = admin.list_categories()\n",
    "    cat_select.options = [(f\"{c.id} - {c.name}\", c.id) for c in cats]\n",
    "    if cats:\n",
    "        cat_select.value = cats[0].id\n",
    "\n",
    "btn_cat_refresh.on_click(refresh_categories)\n",
    "refresh_categories()\n",
    "display(HBox([cat_select, btn_cat_refresh]))\n",
    "display(out_cat)"
   ]
  },
  {
   "cell_type": "code",
   "execution_count": 4,
   "metadata": {},
   "outputs": [
    {
     "data": {
      "application/vnd.jupyter.widget-view+json": {
       "model_id": "2f138434883c4068aa2fc851f400173b",
       "version_major": 2,
       "version_minor": 0
      },
      "text/plain": [
       "Text(value='', description='名称', layout=Layout(width='50%'), placeholder='输入分类名称')"
      ]
     },
     "metadata": {},
     "output_type": "display_data"
    }
   ],
   "source": [
    "# 名称单元\n",
    "cat_name = Text(description='名称', placeholder='输入分类名称', layout=Layout(width='50%'))\n",
    "display(cat_name)"
   ]
  },
  {
   "cell_type": "code",
   "execution_count": 5,
   "metadata": {},
   "outputs": [
    {
     "data": {
      "application/vnd.jupyter.widget-view+json": {
       "model_id": "15e87837e5a14925b8fc2300b1404979",
       "version_major": 2,
       "version_minor": 0
      },
      "text/plain": [
       "Text(value='', description='图片URL', layout=Layout(width='70%'), placeholder='https://... (支持 Ctrl+V 粘贴)', styl…"
      ]
     },
     "metadata": {},
     "output_type": "display_data"
    },
    {
     "name": "stdout",
     "output_type": "stream",
     "text": [
      "💡 如果无法粘贴，请手动输入URL或使用下方的替代方法\n"
     ]
    }
   ],
   "source": [
    "# 图片单元 - 支持粘贴\n",
    "cat_img = Text(\n",
    "    description='图片URL', \n",
    "    placeholder='https://... (支持 Ctrl+V 粘贴)', \n",
    "    layout=Layout(width='70%'),\n",
    "    continuous_update=True,\n",
    "    style={'description_width': 'initial'}\n",
    ")\n",
    "display(cat_img)\n",
    "\n",
    "# 备用输入方法：如果粘贴不工作，可以使用这个\n",
    "print(\"💡 如果无法粘贴，请手动输入URL或使用下方的替代方法\")\n"
   ]
  },
  {
   "cell_type": "code",
   "execution_count": 6,
   "id": "1b5dca31",
   "metadata": {},
   "outputs": [
    {
     "name": "stdout",
     "output_type": "stream",
     "text": [
      "请在下面输入图片URL，然后按 Enter:\n",
      "❌ 未输入URL\n"
     ]
    }
   ],
   "source": [
    "# 备用输入方法：如果上面的文本框无法粘贴，使用这个方法\n",
    "def set_cat_img_url():\n",
    "    \"\"\"手动设置分类图片URL的备用方法\"\"\"\n",
    "    print(\"请在下面输入图片URL，然后按 Enter:\")\n",
    "    url = input(\"图片URL: \")\n",
    "    if url.strip():\n",
    "        cat_img.value = url.strip()\n",
    "        print(f\"✅ 已设置图片URL: {url.strip()}\")\n",
    "    else:\n",
    "        print(\"❌ 未输入URL\")\n",
    "\n",
    "\n",
    "set_cat_img_url()\n"
   ]
  },
  {
   "cell_type": "code",
   "execution_count": 7,
   "metadata": {},
   "outputs": [
    {
     "data": {
      "application/vnd.jupyter.widget-view+json": {
       "model_id": "36d6e039727d4424840c5b20430f3c49",
       "version_major": 2,
       "version_minor": 0
      },
      "text/plain": [
       "HBox(children=(Button(button_style='success', description='创建分类', style=ButtonStyle()), Button(button_style='w…"
      ]
     },
     "metadata": {},
     "output_type": "display_data"
    }
   ],
   "source": [
    "# 提交/更新单元\n",
    "btn_create_cat = Button(description='创建分类', button_style='success')\n",
    "btn_update_cat = Button(description='更新所选分类(留空字段不改)', button_style='warning')\n",
    "\n",
    "def on_create_cat(_):\n",
    "    with out_cat:\n",
    "        out_cat.clear_output()\n",
    "        if not cat_name.value.strip():\n",
    "            print('请输入名称')\n",
    "            return\n",
    "        c = admin.create_category(cat_name.value.strip(), cat_img.value.strip() or None)\n",
    "        print('创建成功:', c)\n",
    "        refresh_categories()\n",
    "\n",
    "def on_update_cat(_):\n",
    "    with out_cat:\n",
    "        out_cat.clear_output()\n",
    "        if cat_select.value is None:\n",
    "            print('请先选择分类')\n",
    "            return\n",
    "        new_name = cat_name.value.strip() or None\n",
    "        new_img = cat_img.value.strip() or None\n",
    "        try:\n",
    "            c = admin.update_category(cat_select.value, name=new_name, image_url=new_img)\n",
    "            print('更新成功:', c)\n",
    "            refresh_categories()\n",
    "        except Exception as e:\n",
    "            print('更新失败:', e)\n",
    "\n",
    "btn_create_cat.on_click(on_create_cat)\n",
    "btn_update_cat.on_click(on_update_cat)\n",
    "display(HBox([btn_create_cat, btn_update_cat]))"
   ]
  },
  {
   "cell_type": "code",
   "execution_count": null,
   "id": "f8593891",
   "metadata": {},
   "outputs": [],
   "source": []
  },
  {
   "cell_type": "markdown",
   "metadata": {},
   "source": [
    "## 事件管理表单（分开单元）"
   ]
  },
  {
   "cell_type": "markdown",
   "id": "0ccf7e7e",
   "metadata": {},
   "source": []
  },
  {
   "cell_type": "code",
   "execution_count": 8,
   "metadata": {},
   "outputs": [
    {
     "data": {
      "application/vnd.jupyter.widget-view+json": {
       "model_id": "07eaff328f65435f843cc55ad43f8169",
       "version_major": 2,
       "version_minor": 0
      },
      "text/plain": [
       "HBox(children=(Dropdown(description='分类', layout=Layout(width='50%'), options=(('6 - IC Markets', 6), ('5 - TM…"
      ]
     },
     "metadata": {},
     "output_type": "display_data"
    },
    {
     "data": {
      "application/vnd.jupyter.widget-view+json": {
       "model_id": "ced188070d444a59909e07d45b2156e3",
       "version_major": 2,
       "version_minor": 0
      },
      "text/plain": [
       "Dropdown(description='事件', layout=Layout(width='70%'), options=(), value=None)"
      ]
     },
     "metadata": {},
     "output_type": "display_data"
    },
    {
     "data": {
      "application/vnd.jupyter.widget-view+json": {
       "model_id": "05551b637e75457db2eb44a7d400310f",
       "version_major": 2,
       "version_minor": 0
      },
      "text/plain": [
       "Output(layout=Layout(border_bottom='1px solid #eee', border_left='1px solid #eee', border_right='1px solid #ee…"
      ]
     },
     "metadata": {},
     "output_type": "display_data"
    }
   ],
   "source": [
    "# 选择分类与事件\n",
    "ev_cat = Dropdown(description='分类', options=[], layout=Layout(width='50%'))\n",
    "ev_select = Dropdown(description='事件', options=[], layout=Layout(width='70%'))\n",
    "btn_ev_refresh = Button(description='刷新事件列表', button_style='')\n",
    "\n",
    "def refresh_ev_categories(*_):\n",
    "    cats = admin.list_categories()\n",
    "    ev_cat.options = [(f\"{c.id} - {c.name}\", c.id) for c in cats]\n",
    "    if cats:\n",
    "        ev_cat.value = cats[0].id\n",
    "\n",
    "def refresh_events(*_):\n",
    "    if ev_cat.value is None:\n",
    "        ev_select.options = []\n",
    "        return\n",
    "    evs = admin.list_events(ev_cat.value)\n",
    "    ev_select.options = [(f\"{e.id} - {e.title}\", e.id) for e in evs]\n",
    "    if evs:\n",
    "        ev_select.value = evs[0].id\n",
    "\n",
    "btn_ev_refresh.on_click(refresh_events)\n",
    "refresh_ev_categories(); refresh_events()\n",
    "display(HBox([ev_cat, btn_ev_refresh]))\n",
    "display(ev_select)\n",
    "display(out_evt)"
   ]
  },
  {
   "cell_type": "code",
   "execution_count": 9,
   "metadata": {},
   "outputs": [
    {
     "data": {
      "application/vnd.jupyter.widget-view+json": {
       "model_id": "8c114b48773c4881889e111e3fafb180",
       "version_major": 2,
       "version_minor": 0
      },
      "text/plain": [
       "Text(value='', description='标题', layout=Layout(width='70%'), placeholder='事件标题')"
      ]
     },
     "metadata": {},
     "output_type": "display_data"
    }
   ],
   "source": [
    "# 标题单元\n",
    "ev_title = Text(description='标题', placeholder='事件标题', layout=Layout(width='70%'))\n",
    "display(ev_title)"
   ]
  },
  {
   "cell_type": "code",
   "execution_count": 10,
   "metadata": {},
   "outputs": [
    {
     "data": {
      "application/vnd.jupyter.widget-view+json": {
       "model_id": "7eafd69cb3884d0eb2d691f193d9e19d",
       "version_major": 2,
       "version_minor": 0
      },
      "text/plain": [
       "Textarea(value='', description='内容', layout=Layout(height='120px', width='90%'), placeholder='正文，可多行')"
      ]
     },
     "metadata": {},
     "output_type": "display_data"
    }
   ],
   "source": [
    "# 内容单元\n",
    "ev_content = Textarea(description='内容', placeholder='正文，可多行', layout=Layout(width='90%', height='120px'))\n",
    "display(ev_content)"
   ]
  },
  {
   "cell_type": "code",
   "execution_count": 11,
   "metadata": {},
   "outputs": [
    {
     "data": {
      "application/vnd.jupyter.widget-view+json": {
       "model_id": "6023a6dd758e4096950bdfb5f09a9d45",
       "version_major": 2,
       "version_minor": 0
      },
      "text/plain": [
       "Textarea(value='', description='图片', layout=Layout(height='80px', width='90%'), placeholder='[\"https://.../1.p…"
      ]
     },
     "metadata": {},
     "output_type": "display_data"
    },
    {
     "name": "stdout",
     "output_type": "stream",
     "text": [
      "💡 如果无法粘贴，可以手动输入或使用下方的备用方法\n"
     ]
    }
   ],
   "source": [
    "# 图片单元（支持JSON数组或逗号分隔URL）- 支持粘贴\n",
    "ev_images = Textarea(\n",
    "    description='图片', \n",
    "    placeholder='[\"https://.../1.png\", \"https://.../2.png\"] 或 逗号分隔 (支持 Ctrl+V 粘贴)', \n",
    "    layout=Layout(width='90%', height='80px'),\n",
    "    continuous_update=True,\n",
    "    style={'description_width': 'initial'}\n",
    ")\n",
    "display(ev_images)\n",
    "\n",
    "# 备用输入提示\n",
    "print(\"💡 如果无法粘贴，可以手动输入或使用下方的备用方法\")"
   ]
  },
  {
   "cell_type": "code",
   "execution_count": 12,
   "id": "1d92d4a5",
   "metadata": {},
   "outputs": [],
   "source": [
    "# 备用输入方法：如果上面的文本框无法粘贴，使用这个方法\n",
    "def set_event_images():\n",
    "    \"\"\"手动设置事件图片URL的备用方法\"\"\"\n",
    "    print(\"请输入图片URL（支持多种格式）:\")\n",
    "    print(\"1. JSON数组格式: [\\\"https://...\\\", \\\"https://...\\\"]\")\n",
    "    print(\"2. 逗号分隔格式: https://..., https://...\")\n",
    "    print(\"3. 单个URL: https://...\")\n",
    "    urls = input(\"图片URL: \")\n",
    "    if urls.strip():\n",
    "        ev_images.value = urls.strip()\n",
    "        print(f\"✅ 已设置图片URL: {urls.strip()}\")\n",
    "    else:\n",
    "        print(\"❌ 未输入URL\")\n",
    "\n",
    "# 如果粘贴不工作，运行这行代码：\n",
    "# set_event_images()\n"
   ]
  },
  {
   "cell_type": "code",
   "execution_count": 13,
   "metadata": {},
   "outputs": [
    {
     "data": {
      "application/vnd.jupyter.widget-view+json": {
       "model_id": "a765dbafbbe64f24bb05e5fc7ba46aeb",
       "version_major": 2,
       "version_minor": 0
      },
      "text/plain": [
       "Text(value='', description='提交者', layout=Layout(width='50%'), placeholder='姓名/ID')"
      ]
     },
     "metadata": {},
     "output_type": "display_data"
    }
   ],
   "source": [
    "# 提交者单元\n",
    "ev_submitter = Text(description='提交者', placeholder='姓名/ID', layout=Layout(width='50%'))\n",
    "display(ev_submitter)"
   ]
  },
  {
   "cell_type": "code",
   "execution_count": null,
   "metadata": {},
   "outputs": [
    {
     "data": {
      "application/vnd.jupyter.widget-view+json": {
       "model_id": "e2cb61d281aa4dedb146f660a509674b",
       "version_major": 2,
       "version_minor": 0
      },
      "text/plain": [
       "HBox(children=(Button(button_style='success', description='创建事件', style=ButtonStyle()), Button(button_style='w…"
      ]
     },
     "metadata": {},
     "output_type": "display_data"
    }
   ],
   "source": [
    "# 提交/更新单元\n",
    "btn_create_ev = Button(description='创建事件', button_style='success')\n",
    "btn_update_ev = Button(description='更新所选事件(留空字段不改)', button_style='warning')\n",
    "\n",
    "def parse_images(val: str):\n",
    "    v = (val or '').strip()\n",
    "    if not v:\n",
    "        return []\n",
    "    try:\n",
    "        if v.startswith('['):\n",
    "            return json.loads(v)\n",
    "    except Exception:\n",
    "        pass\n",
    "    # comma separated\n",
    "    return [s.strip() for s in v.split(',') if s.strip()]\n",
    "\n",
    "def on_create_ev(_):\n",
    "    with out_evt:\n",
    "        out_evt.clear_output()\n",
    "        if ev_cat.value is None:\n",
    "            print('请先选择分类')\n",
    "            return\n",
    "        if not ev_title.value.strip():\n",
    "            print('请输入标题')\n",
    "            return\n",
    "        imgs = parse_images(ev_images.value)\n",
    "        e = admin.create_event(ev_cat.value, ev_title.value.strip(), ev_content.value or None, imgs, ev_submitter.value or None)\n",
    "        print('创建成功:', e)\n",
    "        refresh_events()\n",
    "\n",
    "def on_update_ev(_):\n",
    "    with out_evt:\n",
    "        out_evt.clear_output()\n",
    "        if ev_select.value is None:\n",
    "            print('请先选择事件')\n",
    "            return\n",
    "        kwargs = {}\n",
    "        if ev_title.value.strip(): kwargs['title'] = ev_title.value.strip()\n",
    "        if (ev_content.value or '').strip(): kwargs['content'] = ev_content.value\n",
    "        if (ev_images.value or '').strip(): kwargs['images'] = parse_images(ev_images.value)\n",
    "        if (ev_submitter.value or '').strip(): kwargs['submitted_by'] = ev_submitter.value.strip()\n",
    "        try:\n",
    "            e = admin.update_event(ev_select.value, **kwargs)\n",
    "            print('更新成功:', e)\n",
    "            refresh_events()\n",
    "        except Exception as ex:\n",
    "            print('更新失败:', ex)\n",
    "\n",
    "btn_create_ev.on_click(on_create_ev)\n",
    "btn_update_ev.on_click(on_update_ev)\n",
    "display(HBox([btn_create_ev, btn_update_ev]))"
   ]
  }
 ],
 "metadata": {
  "kernelspec": {
   "display_name": "ShopBack Python",
   "language": "python",
   "name": "shopback-venv"
  },
  "language_info": {
   "codemirror_mode": {
    "name": "ipython",
    "version": 3
   },
   "file_extension": ".py",
   "mimetype": "text/x-python",
   "name": "python",
   "nbconvert_exporter": "python",
   "pygments_lexer": "ipython3",
   "version": "3.12.3"
  }
 },
 "nbformat": 4,
 "nbformat_minor": 5
}
