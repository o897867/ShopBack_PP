{
 "cells": [
  {
   "cell_type": "markdown",
   "metadata": {},
   "source": [
    "# 行业 · CFD 数据管理\n",
    "本 Notebook 用于管理 CFD 经纪商（如 TMGM）及其新闻：新增 / 编辑 / 删除。\n",
    "\n",
    "如未安装交互组件：在下方单元运行 `!pip install ipywidgets` 并重启内核。\n"
   ]
  },
  {
   "cell_type": "code",
   "execution_count": 1,
   "metadata": {},
   "outputs": [
    {
     "data": {
      "application/vnd.jupyter.widget-view+json": {
       "model_id": "7fa2a1f5d711486fbeba723476536764",
       "version_major": 2,
       "version_minor": 0
      },
      "text/plain": [
       "HTML(value='<b>数据库:</b> shopback_data.db')"
      ]
     },
     "metadata": {},
     "output_type": "display_data"
    }
   ],
   "source": [
    "# 基础导入\n",
    "from ipywidgets import VBox, HBox, Button, Text, Dropdown, Label, HTML, Layout, Output\n",
    "from cfd_admin import CFDAdmin\n",
    "\n",
    "admin = CFDAdmin()\n",
    "out = Output()\n",
    "out2 = Output()\n",
    "display(HTML('<b>数据库:</b> shopback_data.db'))\n"
   ]
  },
  {
   "cell_type": "code",
   "execution_count": 5,
   "metadata": {},
   "outputs": [
    {
     "data": {
      "application/vnd.jupyter.widget-view+json": {
       "model_id": "0f413211ba14452d8bcce038eb5bb75e",
       "version_major": 2,
       "version_minor": 0
      },
      "text/plain": [
       "HTML(value='<h3>经纪商管理</h3>')"
      ]
     },
     "metadata": {},
     "output_type": "display_data"
    },
    {
     "data": {
      "application/vnd.jupyter.widget-view+json": {
       "model_id": "ba83cb6a028543c782fece67a33b6e04",
       "version_major": 2,
       "version_minor": 0
      },
      "text/plain": [
       "HBox(children=(Dropdown(description='选择: ', layout=Layout(width='400px'), options=(('Doo Prime (id=6)', 6), ('…"
      ]
     },
     "metadata": {},
     "output_type": "display_data"
    },
    {
     "data": {
      "application/vnd.jupyter.widget-view+json": {
       "model_id": "2821cfedd8cf467384ecc283ca1e447f",
       "version_major": 2,
       "version_minor": 0
      },
      "text/plain": [
       "VBox(children=(Text(value='', description='名称:', layout=Layout(width='400px'), placeholder='如 TMGM'), Text(val…"
      ]
     },
     "metadata": {},
     "output_type": "display_data"
    }
   ],
   "source": [
    "# —— 经纪商管理 ——\n",
    "def load_brokers():\n",
    "    brokers = admin.list_brokers()\n",
    "    options = [(f\"{b.name} (id={b.id})\", b.id) for b in brokers]\n",
    "    return brokers, options\n",
    "\n",
    "brokers, broker_options = load_brokers()\n",
    "broker_select = Dropdown(options=broker_options, description='选择: ', layout=Layout(width='400px'))\n",
    "name_txt = Text(description='名称:', placeholder='如 TMGM', layout=Layout(width='400px'))\n",
    "regs_txt = Text(description='监管:', placeholder='如 ASIC, VFSCN', layout=Layout(width='400px'))\n",
    "rating_txt = Text(description='评分:', placeholder='如 A+', layout=Layout(width='200px'))\n",
    "site_txt = Text(description='官网:', placeholder='如 https://tmgm.com', layout=Layout(width='400px'))\n",
    "logo_txt = Text(description='Logo:', placeholder='/static/uploads/cfd/xxx.png', layout=Layout(width='400px'))\n",
    "\n",
    "btn_create = Button(description='新增', button_style='success')\n",
    "btn_update = Button(description='保存修改', button_style='info')\n",
    "btn_delete = Button(description='删除', button_style='danger')\n",
    "\n",
    "def fill_form(broker_id):\n",
    "    if not broker_id:\n",
    "        name_txt.value = ''\n",
    "        regs_txt.value = ''\n",
    "        rating_txt.value = ''\n",
    "        site_txt.value = ''\n",
    "        logo_txt.value = ''\n",
    "        return\n",
    "    b = admin.get_broker(int(broker_id))\n",
    "    name_txt.value = b.name or ''\n",
    "    regs_txt.value = b.regulators or ''\n",
    "    rating_txt.value = b.rating or ''\n",
    "    site_txt.value = b.website or ''\n",
    "    logo_txt.value = b.logo_url or ''\n",
    "\n",
    "def refresh_brokers(select_latest=False):\n",
    "    global brokers, broker_options\n",
    "    brokers, broker_options = load_brokers()\n",
    "    if not brokers:\n",
    "        broker_select.options = []\n",
    "        fill_form(None)\n",
    "    else:\n",
    "        broker_select.options = broker_options\n",
    "        if select_latest:\n",
    "            broker_select.value = broker_options[0][1]\n",
    "        fill_form(broker_select.value if broker_select.options else None)\n",
    "\n",
    "def on_select_change(change):\n",
    "    if change['name'] == 'value':\n",
    "        fill_form(change['new'])\n",
    "\n",
    "broker_select.observe(on_select_change, names='value')\n",
    "\n",
    "@out.capture(clear_output=True)\n",
    "def do_create(_):\n",
    "    b = admin.create_broker(name_txt.value.strip(), regs_txt.value.strip() or None, rating_txt.value.strip() or None, site_txt.value.strip() or None, logo_txt.value.strip() or None)\n",
    "    print('已新增经纪商:', b)\n",
    "    refresh_brokers(select_latest=True)\n",
    "\n",
    "@out.capture(clear_output=True)\n",
    "def do_update(_):\n",
    "    if not broker_select.options:\n",
    "        print('无可选经纪商')\n",
    "        return\n",
    "    b = admin.update_broker(int(broker_select.value), name=name_txt.value.strip() or None, regulators=regs_txt.value.strip() or None, rating=rating_txt.value.strip() or None, website=site_txt.value.strip() or None, logo_url=logo_txt.value.strip() or None)\n",
    "    print('已保存:', b)\n",
    "    refresh_brokers()\n",
    "\n",
    "@out.capture(clear_output=True)\n",
    "def do_delete(_):\n",
    "    if not broker_select.options:\n",
    "        print('无可选经纪商')\n",
    "        return\n",
    "    admin.delete_broker(int(broker_select.value), cascade=True)\n",
    "    print('已删除')\n",
    "    refresh_brokers()\n",
    "\n",
    "btn_create.on_click(do_create)\n",
    "btn_update.on_click(do_update)\n",
    "btn_delete.on_click(do_delete)\n",
    "\n",
    "display(HTML('<h3>经纪商管理</h3>'))\n",
    "display(HBox([broker_select]))\n",
    "display(VBox([name_txt, regs_txt, HBox([rating_txt, site_txt]), logo_txt, HBox([btn_create, btn_update, btn_delete]), out]))\n",
    "\n",
    "refresh_brokers()\n"
   ]
  },
  {
   "cell_type": "code",
   "execution_count": null,
   "metadata": {},
   "outputs": [
    {
     "data": {
      "application/vnd.jupyter.widget-view+json": {
       "model_id": "4ce14149b18d495f983ea9c991241e43",
       "version_major": 2,
       "version_minor": 0
      },
      "text/plain": [
       "HTML(value='<h3>新闻管理</h3>')"
      ]
     },
     "metadata": {},
     "output_type": "display_data"
    },
    {
     "data": {
      "application/vnd.jupyter.widget-view+json": {
       "model_id": "b3e6ce61582f4d34b27702bffe4af1db",
       "version_major": 2,
       "version_minor": 0
      },
      "text/plain": [
       "HBox(children=(Dropdown(description='经纪商:', layout=Layout(width='400px'), options=(('D Prime (id=6)', 6), ('CM…"
      ]
     },
     "metadata": {},
     "output_type": "display_data"
    },
    {
     "data": {
      "application/vnd.jupyter.widget-view+json": {
       "model_id": "338d259430924f9f845ffc94c21320bc",
       "version_major": 2,
       "version_minor": 0
      },
      "text/plain": [
       "HBox(children=(Dropdown(description='新闻:', layout=Layout(width='400px'), options=(), value=None),))"
      ]
     },
     "metadata": {},
     "output_type": "display_data"
    },
    {
     "data": {
      "application/vnd.jupyter.widget-view+json": {
       "model_id": "7e064be309b0459aa269b358c3dc3ba1",
       "version_major": 2,
       "version_minor": 0
      },
      "text/plain": [
       "VBox(children=(Text(value='', description='标题:', layout=Layout(width='500px')), Text(value='', description='标签…"
      ]
     },
     "metadata": {},
     "output_type": "display_data"
    }
   ],
   "source": [
    "# —— 新闻管理 ——\n",
    "def broker_pairs():\n",
    "    bs = admin.list_brokers()\n",
    "    return [(f\"{b.name} (id={b.id})\", b.id) for b in bs]\n",
    "\n",
    "broker_for_news = Dropdown(options=broker_pairs(), description='经纪商:', layout=Layout(width='400px'))\n",
    "news_select = Dropdown(options=[], description='新闻:', layout=Layout(width='400px'))\n",
    "news_title = Text(description='标题:', layout=Layout(width='500px'))\n",
    "news_tag = Text(description='标签:', placeholder='如 行业观察/简讯', layout=Layout(width='300px'))\n",
    "btn_news_create = Button(description='新增新闻', button_style='success')\n",
    "btn_news_update = Button(description='保存修改', button_style='info')\n",
    "btn_news_delete = Button(description='删除', button_style='danger')\n",
    "\n",
    "def refresh_news():\n",
    "    news = []\n",
    "    if broker_for_news.value is not None:\n",
    "        news = admin.list_news(int(broker_for_news.value))\n",
    "    news_options = [(f\"{n.title} (id={n.id})\", n.id) for n in news]\n",
    "    news_select.options = news_options\n",
    "    if news_options:\n",
    "        news_select.value = news_options[0][1]\n",
    "        # 填充表单\n",
    "        n = admin.list_news(int(broker_for_news.value))[0]\n",
    "        news_title.value = n.title\n",
    "        news_tag.value = n.tag or ''\n",
    "    else:\n",
    "        news_title.value = ''\n",
    "        news_tag.value = ''\n",
    "\n",
    "def on_broker_change(change):\n",
    "    if change['name'] == 'value':\n",
    "        refresh_news()\n",
    "\n",
    "def on_news_change(change):\n",
    "    if change['name'] == 'value' and change['new'] is not None:\n",
    "        nid = int(change['new'])\n",
    "        # 读取并填入\n",
    "        ns = [n for n in admin.list_news(int(broker_for_news.value)) if n.id == nid]\n",
    "        if ns:\n",
    "            news_title.value = ns[0].title\n",
    "            news_tag.value = ns[0].tag or ''\n",
    "\n",
    "@out2.capture(clear_output=True)\n",
    "def do_news_create(_):\n",
    "    if broker_for_news.value is None:\n",
    "        print('请先选择经纪商')\n",
    "        return\n",
    "    n = admin.create_news(int(broker_for_news.value), news_title.value.strip(), news_tag.value.strip() or None)\n",
    "    print('已新增新闻:', n)\n",
    "    refresh_news()\n",
    "\n",
    "@out2.capture(clear_output=True)\n",
    "def do_news_update(_):\n",
    "    if not news_select.options:\n",
    "        print('无可选新闻')\n",
    "        return\n",
    "    n = admin.update_news(int(news_select.value), title=news_title.value.strip() or None, tag=news_tag.value.strip() or None)\n",
    "    print('已保存:', n)\n",
    "    refresh_news()\n",
    "\n",
    "@out2.capture(clear_output=True)\n",
    "def do_news_delete(_):\n",
    "    if not news_select.options:\n",
    "        print('无可选新闻')\n",
    "        return\n",
    "    admin.delete_news(int(news_select.value))\n",
    "    print('已删除')\n",
    "    refresh_news()\n",
    "\n",
    "broker_for_news.observe(on_broker_change, names='value')\n",
    "news_select.observe(on_news_change, names='value')\n",
    "btn_news_create.on_click(do_news_create)\n",
    "btn_news_update.on_click(do_news_update)\n",
    "btn_news_delete.on_click(do_news_delete)\n",
    "\n",
    "display(HTML('<h3>新闻管理</h3>'))\n",
    "display(HBox([broker_for_news]))\n",
    "display(HBox([news_select]))\n",
    "display(VBox([news_title, news_tag, HBox([btn_news_create, btn_news_update, btn_news_delete]), out2]))\n",
    "\n",
    "# 初始化\n",
    "broker_for_news.options = broker_pairs()\n",
    "refresh_news()\n"
   ]
  }
 ],
 "metadata": {
  "kernelspec": {
   "display_name": "ShopBack Python",
   "language": "python",
   "name": "shopback-venv"
  },
  "language_info": {
   "codemirror_mode": {
    "name": "ipython",
    "version": 3
   },
   "file_extension": ".py",
   "mimetype": "text/x-python",
   "name": "python",
   "nbconvert_exporter": "python",
   "pygments_lexer": "ipython3",
   "version": "3.12.3"
  }
 },
 "nbformat": 4,
 "nbformat_minor": 5
}
