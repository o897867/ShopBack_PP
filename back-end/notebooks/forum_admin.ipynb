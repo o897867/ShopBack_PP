{
 "cells": [
  {
   "cell_type": "markdown",
   "metadata": {},
   "source": [
    "# Forum Admin Notebook (SQLite)\n",
    "\n",
    "文本方式管理主题与帖子（无需图形界面）。建议先在开发环境操作，确认后再用于生产。\n",
    "\n",
    "功能：\n",
    "- 查看线程、查看待审核帖子\n",
    "- 审核通过/拒绝\n",
    "- 新建主题、回复、编辑、删除（软删）\n",
    "- 关键词搜索、导出 CSV\n"
   ]
  },
  {
   "cell_type": "code",
   "execution_count": 8,
   "metadata": {},
   "outputs": [],
   "source": [
    "import os, sqlite3, csv, datetime as dt\n",
    "from pathlib import Path\n",
    "\n",
    "# 解析数据库路径：优先 DB_PATH 环境变量，否则与后端一致\n",
    "import os, sqlite3\n",
    "from pathlib import Path\n",
    "\n",
    "def detect_db_path() -> str:\n",
    "# 1) 优先环境变量\n",
    "    env = os.getenv(\"DB_PATH\")\n",
    "    if env:\n",
    "        return env\n",
    "DB_PATH = detect_db_path()"
   ]
  },
  {
   "cell_type": "code",
   "execution_count": 10,
   "id": "8a7c58ab",
   "metadata": {},
   "outputs": [],
   "source": [
    "DB_PATH\n"
   ]
  },
  {
   "cell_type": "code",
   "execution_count": 9,
   "metadata": {},
   "outputs": [
    {
     "ename": "TypeError",
     "evalue": "expected str, bytes or os.PathLike object, not NoneType",
     "output_type": "error",
     "traceback": [
      "\u001b[31m---------------------------------------------------------------------------\u001b[39m",
      "\u001b[31mTypeError\u001b[39m                                 Traceback (most recent call last)",
      "\u001b[36mCell\u001b[39m\u001b[36m \u001b[39m\u001b[32mIn[9]\u001b[39m\u001b[32m, line 16\u001b[39m\n\u001b[32m     13\u001b[39m     \u001b[38;5;28mprint\u001b[39m(\u001b[33mf\u001b[39m\u001b[33m'\u001b[39m\u001b[33m-- \u001b[39m\u001b[38;5;132;01m{\u001b[39;00mcnt\u001b[38;5;132;01m}\u001b[39;00m\u001b[33m row(s) shown\u001b[39m\u001b[33m'\u001b[39m)\n\u001b[32m     15\u001b[39m \u001b[38;5;66;03m# 简单健康检查：表是否存在\u001b[39;00m\n\u001b[32m---> \u001b[39m\u001b[32m16\u001b[39m \u001b[38;5;28;01mwith\u001b[39;00m \u001b[43mget_conn\u001b[49m\u001b[43m(\u001b[49m\u001b[43m)\u001b[49m \u001b[38;5;28;01mas\u001b[39;00m c:\n\u001b[32m     17\u001b[39m     cur = c.cursor()\n\u001b[32m     18\u001b[39m     cur.execute(\u001b[33m\"\u001b[39m\u001b[33mSELECT name FROM sqlite_master WHERE type=\u001b[39m\u001b[33m'\u001b[39m\u001b[33mtable\u001b[39m\u001b[33m'\u001b[39m\u001b[33m AND name IN (\u001b[39m\u001b[33m'\u001b[39m\u001b[33mforum_threads\u001b[39m\u001b[33m'\u001b[39m\u001b[33m,\u001b[39m\u001b[33m'\u001b[39m\u001b[33mforum_posts\u001b[39m\u001b[33m'\u001b[39m\u001b[33m)\u001b[39m\u001b[33m\"\u001b[39m)\n",
      "\u001b[36mCell\u001b[39m\u001b[36m \u001b[39m\u001b[32mIn[9]\u001b[39m\u001b[32m, line 2\u001b[39m, in \u001b[36mget_conn\u001b[39m\u001b[34m()\u001b[39m\n\u001b[32m      1\u001b[39m \u001b[38;5;28;01mdef\u001b[39;00m\u001b[38;5;250m \u001b[39m\u001b[34mget_conn\u001b[39m():\n\u001b[32m----> \u001b[39m\u001b[32m2\u001b[39m     conn = \u001b[43msqlite3\u001b[49m\u001b[43m.\u001b[49m\u001b[43mconnect\u001b[49m\u001b[43m(\u001b[49m\u001b[43mDB_PATH\u001b[49m\u001b[43m)\u001b[49m\n\u001b[32m      3\u001b[39m     conn.row_factory = sqlite3.Row\n\u001b[32m      4\u001b[39m     \u001b[38;5;28;01mreturn\u001b[39;00m conn\n",
      "\u001b[31mTypeError\u001b[39m: expected str, bytes or os.PathLike object, not NoneType"
     ]
    }
   ],
   "source": [
    "def get_conn():\n",
    "    conn = sqlite3.connect(DB_PATH)\n",
    "    conn.row_factory = sqlite3.Row\n",
    "    return conn\n",
    "\n",
    "def print_rows(rows, limit=20):\n",
    "    cnt = 0\n",
    "    for r in rows:\n",
    "        print(dict(r))\n",
    "        cnt += 1\n",
    "        if cnt >= limit:\n",
    "            break\n",
    "    print(f'-- {cnt} row(s) shown')\n",
    "\n",
    "# 简单健康检查：表是否存在\n",
    "with get_conn() as c:\n",
    "    cur = c.cursor()\n",
    "    cur.execute(\"SELECT name FROM sqlite_master WHERE type='table' AND name IN ('forum_threads','forum_posts')\")\n",
    "    print('tables:', [r[0] for r in cur.fetchall()])\n"
   ]
  },
  {
   "cell_type": "code",
   "execution_count": null,
   "metadata": {},
   "outputs": [],
   "source": [
    "# 查看最近线程\n",
    "def list_threads(limit=20, offset=0):\n",
    "    with get_conn() as c:\n",
    "        cur = c.cursor()\n",
    "        cur.execute(\n",
    "            \"SELECT id, title, author_name, status, created_at, last_post_at FROM forum_threads\"\n",
    "            \" ORDER BY COALESCE(last_post_at, created_at) DESC, id DESC LIMIT ? OFFSET ?\",\n",
    "            (limit, offset)\n",
    "        )\n",
    "        rows = cur.fetchall()\n",
    "        print_rows(rows)\n",
    "\n",
    "list_threads(10)\n"
   ]
  },
  {
   "cell_type": "code",
   "execution_count": null,
   "metadata": {},
   "outputs": [],
   "source": [
    "# 查看某线程帖子（仅显示字段摘要）\n",
    "def list_posts(thread_id, include_pending=False, limit=50, offset=0):\n",
    "    with get_conn() as c:\n",
    "        cur = c.cursor()\n",
    "        if include_pending:\n",
    "            cur.execute(\n",
    "                \"SELECT id, author_name, status, created_at FROM forum_posts WHERE thread_id=? ORDER BY id ASC LIMIT ? OFFSET ?\",\n",
    "                (thread_id, limit, offset)\n",
    "            )\n",
    "        else:\n",
    "            cur.execute(\n",
    "                \"SELECT id, author_name, status, created_at FROM forum_posts WHERE thread_id=? AND status='published' ORDER BY id ASC LIMIT ? OFFSET ?\",\n",
    "                (thread_id, limit, offset)\n",
    "            )\n",
    "        rows = cur.fetchall()\n",
    "        print_rows(rows, limit=limit)\n",
    "\n",
    "# 示例：list_posts(1, include_pending=True)\n"
   ]
  },
  {
   "cell_type": "code",
   "execution_count": null,
   "metadata": {},
   "outputs": [],
   "source": [
    "# 待审核队列\n",
    "def list_pending(limit=100, offset=0):\n",
    "    with get_conn() as c:\n",
    "        cur = c.cursor()\n",
    "        cur.execute(\n",
    "            \"SELECT id, thread_id, author_name, status, created_at FROM forum_posts WHERE status='pending' ORDER BY created_at ASC LIMIT ? OFFSET ?\",\n",
    "            (limit, offset)\n",
    "        )\n",
    "        print_rows(cur.fetchall(), limit=limit)\n",
    "\n",
    "list_pending(20)\n"
   ]
  },
  {
   "cell_type": "code",
   "execution_count": null,
   "metadata": {},
   "outputs": [],
   "source": [
    "# 审核操作：通过/拒绝\n",
    "def approve_post(post_id, reason=None, moderator_name=None):\n",
    "    with get_conn() as c:\n",
    "        cur = c.cursor()\n",
    "        cur.execute(\"UPDATE forum_posts SET status='published', updated_at=CURRENT_TIMESTAMP WHERE id=?\", (post_id,))\n",
    "        if cur.rowcount == 0:\n",
    "            print('post not found')\n",
    "            return\n",
    "        cur.execute(\n",
    "            \"INSERT INTO forum_moderation_actions (post_id, moderator_name, action, reason) VALUES (?, ?, 'approve', ?)\",\n",
    "            (post_id, moderator_name, reason)\n",
    "        )\n",
    "        c.commit()\n",
    "        print('approved', post_id)\n",
    "\n",
    "def reject_post(post_id, reason=None, moderator_name=None):\n",
    "    with get_conn() as c:\n",
    "        cur = c.cursor()\n",
    "        cur.execute(\"UPDATE forum_posts SET status='rejected', updated_at=CURRENT_TIMESTAMP WHERE id=?\", (post_id,))\n",
    "        if cur.rowcount == 0:\n",
    "            print('post not found')\n",
    "            return\n",
    "        cur.execute(\n",
    "            \"INSERT INTO forum_moderation_actions (post_id, moderator_name, action, reason) VALUES (?, ?, 'reject', ?)\",\n",
    "            (post_id, moderator_name, reason)\n",
    "        )\n",
    "        c.commit()\n",
    "        print('rejected', post_id)\n",
    "\n",
    "# 示例：approve_post(123, 'ok', 'admin') / reject_post(124, 'spam', 'mod1')\n"
   ]
  },
  {
   "cell_type": "code",
   "execution_count": null,
   "metadata": {},
   "outputs": [],
   "source": [
    "# 新建主题 + 首帖\n",
    "def create_thread(title, content_html, author_name=None, tags=None):\n",
    "    tags_json = None\n",
    "    if tags is not None:\n",
    "        import json as _json\n",
    "        tags_json = _json.dumps(tags)\n",
    "    with get_conn() as c:\n",
    "        cur = c.cursor()\n",
    "        cur.execute(\n",
    "            \"INSERT INTO forum_threads (title, author_name, tags_json, status, last_post_at) VALUES (?, ?, ?, 'normal', CURRENT_TIMESTAMP)\",\n",
    "            (title.strip(), author_name, tags_json)\n",
    "        )\n",
    "        thread_id = cur.lastrowid\n",
    "        cur.execute(\n",
    "            \"INSERT INTO forum_posts (thread_id, author_name, raw_html, safe_html, status, rules_score) VALUES (?, ?, ?, ?, 'published', 0)\",\n",
    "            (thread_id, author_name, content_html, content_html)\n",
    "        )\n",
    "        c.commit()\n",
    "        print('thread created:', thread_id)\n",
    "        return thread_id\n",
    "\n",
    "# 示例：create_thread('测试主题', '<p>内容</p>', 'admin', ['general'])\n"
   ]
  },
  {
   "cell_type": "code",
   "execution_count": 6,
   "metadata": {},
   "outputs": [
    {
     "ename": "NameError",
     "evalue": "name 'get_conn' is not defined",
     "output_type": "error",
     "traceback": [
      "\u001b[31m---------------------------------------------------------------------------\u001b[39m",
      "\u001b[31mNameError\u001b[39m                                 Traceback (most recent call last)",
      "\u001b[36mCell\u001b[39m\u001b[36m \u001b[39m\u001b[32mIn[6]\u001b[39m\u001b[32m, line 21\u001b[39m\n\u001b[32m     18\u001b[39m         cur.execute(\u001b[33m\"\u001b[39m\u001b[33mSELECT * FROM forum_posts\u001b[39m\u001b[33m\"\u001b[39m)\n\u001b[32m     19\u001b[39m         print_rows(cur.fetchall())\n\u001b[32m---> \u001b[39m\u001b[32m21\u001b[39m \u001b[43mshow_all_posts\u001b[49m\u001b[43m(\u001b[49m\u001b[43m)\u001b[49m\n\u001b[32m     22\u001b[39m \u001b[38;5;28;01mdef\u001b[39;00m\u001b[38;5;250m \u001b[39m\u001b[34medit_post\u001b[39m(post_id, new_html, new_status=\u001b[38;5;28;01mNone\u001b[39;00m):\n\u001b[32m     23\u001b[39m     \u001b[38;5;28;01mwith\u001b[39;00m get_conn() \u001b[38;5;28;01mas\u001b[39;00m c:\n",
      "\u001b[36mCell\u001b[39m\u001b[36m \u001b[39m\u001b[32mIn[6]\u001b[39m\u001b[32m, line 16\u001b[39m, in \u001b[36mshow_all_posts\u001b[39m\u001b[34m()\u001b[39m\n\u001b[32m     15\u001b[39m \u001b[38;5;28;01mdef\u001b[39;00m\u001b[38;5;250m \u001b[39m\u001b[34mshow_all_posts\u001b[39m():\n\u001b[32m---> \u001b[39m\u001b[32m16\u001b[39m     \u001b[38;5;28;01mwith\u001b[39;00m \u001b[43mget_conn\u001b[49m() \u001b[38;5;28;01mas\u001b[39;00m c:\n\u001b[32m     17\u001b[39m         cur = c.cursor()\n\u001b[32m     18\u001b[39m         cur.execute(\u001b[33m\"\u001b[39m\u001b[33mSELECT * FROM forum_posts\u001b[39m\u001b[33m\"\u001b[39m)\n",
      "\u001b[31mNameError\u001b[39m: name 'get_conn' is not defined"
     ]
    }
   ],
   "source": [
    "# 回复、编辑、删除（软删）\n",
    "def reply(thread_id, content_html, author_name=None, status='published'):\n",
    "    with get_conn() as c:\n",
    "        cur = c.cursor()\n",
    "        cur.execute(\"SELECT 1 FROM forum_threads WHERE id=?\", (thread_id,))\n",
    "        if not cur.fetchone():\n",
    "            print('thread not found')\n",
    "            return\n",
    "        cur.execute(\n",
    "            \"INSERT INTO forum_posts (thread_id, author_name, raw_html, safe_html, status, rules_score) VALUES (?, ?, ?, ?, ?, 0)\",\n",
    "            (thread_id, author_name, content_html, content_html, status)\n",
    "        )\n",
    "        c.commit()\n",
    "        print('replied post id:', cur.lastrowid)\n",
    "def show_all_posts():\n",
    "    with get_conn() as c:\n",
    "        cur = c.cursor()\n",
    "        cur.execute(\"SELECT * FROM forum_posts\")\n",
    "        print_rows(cur.fetchall())\n",
    "\n",
    "show_all_posts()\n",
    "def edit_post(post_id, new_html, new_status=None):\n",
    "    with get_conn() as c:\n",
    "        cur = c.cursor()\n",
    "        if new_status:\n",
    "            cur.execute(\n",
    "                \"UPDATE forum_posts SET raw_html=?, safe_html=?, status=?, updated_at=CURRENT_TIMESTAMP WHERE id=?\",\n",
    "                (new_html, new_html, new_status, post_id)\n",
    "            )\n",
    "        else:\n",
    "            cur.execute(\n",
    "                \"UPDATE forum_posts SET raw_html=?, safe_html=?, updated_at=CURRENT_TIMESTAMP WHERE id=?\",\n",
    "                (new_html, post_id)\n",
    "            )\n",
    "        c.commit()\n",
    "        print('edited', post_id)\n",
    "\n",
    "def soft_delete_post(post_id):\n",
    "    with get_conn() as c:\n",
    "        cur = c.cursor()\n",
    "        cur.execute(\"UPDATE forum_posts SET status='deleted', updated_at=CURRENT_TIMESTAMP WHERE id=?\", (post_id,))\n",
    "        c.commit()\n",
    "        print('deleted', post_id)\n",
    "\n",
    "# 示例：reply(1, '<p>hi</p>', 'admin') / edit_post(10, '<p>new</p>') / soft_delete_post(11)\n"
   ]
  },
  {
   "cell_type": "code",
   "execution_count": 5,
   "id": "172662e4",
   "metadata": {},
   "outputs": [
    {
     "ename": "NameError",
     "evalue": "name 'show_all_posts' is not defined",
     "output_type": "error",
     "traceback": [
      "\u001b[31m---------------------------------------------------------------------------\u001b[39m",
      "\u001b[31mNameError\u001b[39m                                 Traceback (most recent call last)",
      "\u001b[36mCell\u001b[39m\u001b[36m \u001b[39m\u001b[32mIn[5]\u001b[39m\u001b[32m, line 1\u001b[39m\n\u001b[32m----> \u001b[39m\u001b[32m1\u001b[39m \u001b[43mshow_all_posts\u001b[49m()\n",
      "\u001b[31mNameError\u001b[39m: name 'show_all_posts' is not defined"
     ]
    }
   ],
   "source": [
    "show_all_posts()"
   ]
  },
  {
   "cell_type": "code",
   "execution_count": null,
   "metadata": {},
   "outputs": [],
   "source": [
    "# 关键词搜索（标题与内容简单 LIKE）\n",
    "def search(keyword, limit=50):\n",
    "    kw = f'%{keyword.replace(\"%\",\"%%\").replace(\"_\",\"__\")}%'\n",
    "    with get_conn() as c:\n",
    "        cur = c.cursor()\n",
    "        cur.execute(\n",
    "            \"SELECT t.id AS thread_id, t.title, p.id AS post_id, p.author_name, p.status, p.created_at\"\n",
    "            \" FROM forum_threads t JOIN forum_posts p ON p.thread_id=t.id\"\n",
    "            \" WHERE t.title LIKE ? OR p.raw_html LIKE ?\"\n",
    "            \" ORDER BY p.created_at DESC LIMIT ?\",\n",
    "            (kw, kw, limit)\n",
    "        )\n",
    "        print_rows(cur.fetchall(), limit=limit)\n",
    "\n",
    "# 示例：search('测试')\n"
   ]
  },
  {
   "cell_type": "code",
   "execution_count": null,
   "metadata": {},
   "outputs": [],
   "source": [
    "# 导出帖子为 CSV（简单示例）\n",
    "def export_posts_csv(path='forum_posts_export.csv', status=None):\n",
    "    with get_conn() as c:\n",
    "        cur = c.cursor()\n",
    "        if status:\n",
    "            cur.execute(\n",
    "                \"SELECT id, thread_id, author_name, status, created_at FROM forum_posts WHERE status=? ORDER BY created_at DESC\",\n",
    "                (status,)\n",
    "            )\n",
    "        else:\n",
    "            cur.execute(\n",
    "                \"SELECT id, thread_id, author_name, status, created_at FROM forum_posts ORDER BY created_at DESC\"\n",
    "            )\n",
    "        rows = cur.fetchall()\n",
    "    with open(path, 'w', newline='', encoding='utf-8') as f:\n",
    "        w = csv.writer(f)\n",
    "        w.writerow(['id','thread_id','author_name','status','created_at'])\n",
    "        for r in rows:\n",
    "            d = dict(r)\n",
    "            w.writerow([d['id'], d['thread_id'], d.get('author_name'), d.get('status'), d.get('created_at')])\n",
    "    print('exported ->', path, 'rows:', len(rows))\n",
    "\n",
    "# 示例：export_posts_csv('posts.csv', status='pending')\n"
   ]
  }
 ],
 "metadata": {
  "kernelspec": {
   "display_name": "ShopBack Python",
   "language": "python",
   "name": "shopback-venv"
  },
  "language_info": {
   "codemirror_mode": {
    "name": "ipython",
    "version": 3
   },
   "file_extension": ".py",
   "mimetype": "text/x-python",
   "name": "python",
   "nbconvert_exporter": "python",
   "pygments_lexer": "ipython3",
   "version": "3.12.3"
  }
 },
 "nbformat": 4,
 "nbformat_minor": 5
}
