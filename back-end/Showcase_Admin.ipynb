{
 "cells": [
  {
   "cell_type": "markdown",
   "metadata": {},
   "source": [
    "# Showcase 管理（仅后端/Jupyter）\n",
    "本 Notebook 用于通过 SQLite 直接管理 Showcase 分类与事件（仅内部使用）。\n",
    "\n",
    "- 分类：仅图片 + 名称\n",
    "- 事件：标题 + 日期（列表）；详情包含：标题、内容（可含截图链接）、提交者、日期\n",
    "\n",
    "注意：前端写接口默认禁用；此 Notebook 直接写数据库。"
   ]
  },
  {
   "cell_type": "code",
   "execution_count": null,
   "metadata": {},
   "outputs": [],
   "source": [
    "from showcase_admin import ShowcaseAdmin\n",
    "admin = ShowcaseAdmin()  # 默认使用 back-end/shopback_data.db"
   ]
  },
  {
   "cell_type": "markdown",
   "metadata": {},
   "source": [
    "## 分类管理"
   ]
  },
  {
   "cell_type": "code",
   "execution_count": 1,
   "metadata": {},
   "outputs": [
    {
     "ename": "NameError",
     "evalue": "name 'admin' is not defined",
     "output_type": "error",
     "traceback": [
      "\u001b[31m---------------------------------------------------------------------------\u001b[39m",
      "\u001b[31mNameError\u001b[39m                                 Traceback (most recent call last)",
      "\u001b[36mCell\u001b[39m\u001b[36m \u001b[39m\u001b[32mIn[1]\u001b[39m\u001b[32m, line 2\u001b[39m\n\u001b[32m      1\u001b[39m \u001b[38;5;66;03m# 创建分类\u001b[39;00m\n\u001b[32m----> \u001b[39m\u001b[32m2\u001b[39m cat = \u001b[43madmin\u001b[49m.create_category(\u001b[33m\"\u001b[39m\u001b[33m平台公告\u001b[39m\u001b[33m\"\u001b[39m, image_url=\u001b[33m\"\u001b[39m\u001b[33mstatic/uploads/showcase/ec.png\u001b[39m\u001b[33m\"\u001b[39m)\n\u001b[32m      3\u001b[39m cat\n",
      "\u001b[31mNameError\u001b[39m: name 'admin' is not defined"
     ]
    }
   ],
   "source": [
    "# 创建分类\n",
    "cat = admin.create_category(\"平台公告\", image_url=\"static/uploads/showcase/ec.png\")\n",
    "cat"
   ]
  },
  {
   "cell_type": "code",
   "execution_count": null,
   "metadata": {},
   "outputs": [],
   "source": [
    "# 查看分类列表\n",
    "admin.list_categories()"
   ]
  },
  {
   "cell_type": "code",
   "execution_count": null,
   "metadata": {},
   "outputs": [],
   "source": [
    "# 更新分类\n",
    "admin.update_category(cat.id, name=\"平台公告（置顶）\")\n"
   ]
  },
  {
   "cell_type": "markdown",
   "metadata": {},
   "source": [
    "## 事件管理"
   ]
  },
  {
   "cell_type": "code",
   "execution_count": null,
   "metadata": {},
   "outputs": [],
   "source": [
    "# 创建事件（可包含截图链接列表）\n",
    "ev = admin.create_event(\n",
    "    category_id=cat.id,\n",
    "    title=\"事件一：系统发布\",\n",
    "    content=\"发布说明：...\\n更新内容：...\",\n",
    "    images=[\"https://picsum.photos/seed/1/1024/600\"],\n",
    "    submitted_by=\"管理员A\"\n",
    ")\n",
    "ev"
   ]
  },
  {
   "cell_type": "code",
   "execution_count": null,
   "metadata": {},
   "outputs": [],
   "source": [
    "# 按分类查看事件列表\n",
    "admin.list_events(cat.id)"
   ]
  },
  {
   "cell_type": "code",
   "execution_count": null,
   "metadata": {},
   "outputs": [],
   "source": [
    "# 获取事件详情\n",
    "admin.get_event(ev.id)"
   ]
  },
  {
   "cell_type": "markdown",
   "metadata": {},
   "source": [
    "## CSV 导入/导出"
   ]
  },
  {
   "cell_type": "code",
   "execution_count": null,
   "metadata": {},
   "outputs": [],
   "source": [
    "# 导出分类与事件为 CSV\n",
    "admin.export_categories_csv('showcase_categories.csv')\n",
    "admin.export_events_csv('showcase_events.csv')\n",
    "'导出完成'"
   ]
  },
  {
   "cell_type": "code",
   "execution_count": null,
   "metadata": {},
   "outputs": [],
   "source": [
    "# 从 CSV 导入（列名需与导出一致）\n",
    "# admin.import_categories_csv('showcase_categories.csv')\n",
    "# admin.import_events_csv('showcase_events.csv')\n",
    "'导入示例（执行前检查文件与列名）'"
   ]
  }
 ],
 "metadata": {
  "kernelspec": {
   "display_name": "ShopBack Python",
   "language": "python",
   "name": "shopback-venv"
  },
  "language_info": {
   "codemirror_mode": {
    "name": "ipython",
    "version": 3
   },
   "file_extension": ".py",
   "mimetype": "text/x-python",
   "name": "python",
   "nbconvert_exporter": "python",
   "pygments_lexer": "ipython3",
   "version": "3.12.3"
  }
 },
 "nbformat": 4,
 "nbformat_minor": 5
}
