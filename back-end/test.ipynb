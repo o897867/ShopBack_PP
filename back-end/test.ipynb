{
 "cells": [
  {
   "cell_type": "code",
   "execution_count": 3,
   "id": "8ceb880e",
   "metadata": {},
   "outputs": [
    {
     "name": "stdout",
     "output_type": "stream",
     "text": [
      "2025年09月01日 04:57:00\n",
      "2023年12月21日 01:50:56\n"
     ]
    }
   ],
   "source": [
    "import datetime\n",
    "\n",
    "def unix_to_readable_date(unix_timestamp):\n",
    "    \"\"\"\n",
    "    将Unix时间戳转换为可读的日期格式\n",
    "    支持秒级和毫秒级时间戳\n",
    "    \"\"\"\n",
    "    # 判断是秒级还是毫秒级时间戳\n",
    "    if len(str(int(unix_timestamp))) == 13:  # 毫秒级\n",
    "        timestamp = unix_timestamp / 1000\n",
    "    else:  # 秒级\n",
    "        timestamp = unix_timestamp\n",
    "    \n",
    "    # 转换为datetime对象\n",
    "    dt = datetime.datetime.fromtimestamp(timestamp)\n",
    "    \n",
    "    # 格式化为中文日期\n",
    "    return dt.strftime('%Y年%m月%d日 %H:%M:%S')\n",
    "\n",
    "# 使用示例\n",
    "unix_time = 1756702620000  # 秒级时间戳\n",
    "print(unix_to_readable_date(unix_time))  # 输出：2023年12月21日 02:57:36\n",
    "\n",
    "# 毫秒级时间戳\n",
    "unix_time_ms = 1703123456000\n",
    "print(unix_to_readable_date(unix_time_ms))  # 输出：2023年12月21日 02:57:36"
   ]
  }
 ],
 "metadata": {
  "kernelspec": {
   "display_name": "ShopBack Python",
   "language": "python",
   "name": "shopback-venv"
  },
  "language_info": {
   "codemirror_mode": {
    "name": "ipython",
    "version": 3
   },
   "file_extension": ".py",
   "mimetype": "text/x-python",
   "name": "python",
   "nbconvert_exporter": "python",
   "pygments_lexer": "ipython3",
   "version": "3.12.3"
  }
 },
 "nbformat": 4,
 "nbformat_minor": 5
}
