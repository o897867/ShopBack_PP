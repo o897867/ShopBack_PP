{
 "cells": [
  {
   "cell_type": "code",
   "execution_count": null,
   "id": "8ceb880e",
   "metadata": {},
   "outputs": [],
   "source": []
  }
 ],
 "metadata": {
  "kernelspec": {
   "display_name": "ShopBack Python",
   "language": "python",
   "name": "shopback-venv"
  },
  "language_info": {
   "name": "python",
   "version": "3.12.3"
  }
 },
 "nbformat": 4,
 "nbformat_minor": 5
}
